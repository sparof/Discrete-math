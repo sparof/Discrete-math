{
 "cells": [
  {
   "cell_type": "markdown",
   "metadata": {},
   "source": [
    "# Discrete math second lesson"
   ]
  },
  {
   "cell_type": "markdown",
   "metadata": {},
   "source": [
    "this jupyter notebook belongs to guilan university discrete math of 981 semester\n",
    "author: ahmad mohammadalizadeh\n",
    "+ <a href=\"mailto:ahmadsparof@gmail.com\">Email me if there is any complexity or question</a> "
   ]
  },
  {
   "cell_type": "markdown",
   "metadata": {},
   "source": [
    "## IN THIS TOPIC"
   ]
  },
  {
   "cell_type": "markdown",
   "metadata": {},
   "source": [
    "Follow these links\n",
    "- [UNION](#union-(اجتماع))\n",
    "- [INTERSECTION](#intersection-(اشتراک))\n",
    "- [COMPLEMENT](#complement-(متمم))\n",
    "- [more info](#Laws-of-set-operations)"
   ]
  },
  {
   "cell_type": "markdown",
   "metadata": {},
   "source": [
    "**symbol python library**"
   ]
  },
  {
   "cell_type": "code",
   "execution_count": 102,
   "metadata": {},
   "outputs": [],
   "source": [
    "import sympy as sym\n",
    "sym.init_printing(use_latex = \"mathjax\")"
   ]
  },
  {
   "cell_type": "markdown",
   "metadata": {},
   "source": [
    "**init part**"
   ]
  },
  {
   "cell_type": "code",
   "execution_count": 103,
   "metadata": {},
   "outputs": [],
   "source": [
    "a, b, c, d, e, f, g, h = sym.symbols(\"a, b, c, d, e, f, g, h\")\n",
    "A = sym.FiniteSet(a, b, c, d)\n",
    "B = sym.FiniteSet(h, g, e, f)\n",
    "C = sym.FiniteSet(e, b, f, a)"
   ]
  },
  {
   "cell_type": "code",
   "execution_count": 104,
   "metadata": {},
   "outputs": [
    {
     "data": {
      "text/latex": [
       "$$\\left\\{a, b, c, d\\right\\}$$"
      ],
      "text/plain": [
       "{a, b, c, d}"
      ]
     },
     "execution_count": 104,
     "metadata": {},
     "output_type": "execute_result"
    }
   ],
   "source": [
    "A"
   ]
  },
  {
   "cell_type": "code",
   "execution_count": 105,
   "metadata": {},
   "outputs": [
    {
     "data": {
      "text/latex": [
       "$$\\left\\{e, f, g, h\\right\\}$$"
      ],
      "text/plain": [
       "{e, f, g, h}"
      ]
     },
     "execution_count": 105,
     "metadata": {},
     "output_type": "execute_result"
    }
   ],
   "source": [
    "B"
   ]
  },
  {
   "cell_type": "code",
   "execution_count": 106,
   "metadata": {},
   "outputs": [
    {
     "data": {
      "text/latex": [
       "$$\\left\\{a, b, e, f\\right\\}$$"
      ],
      "text/plain": [
       "{a, b, e, f}"
      ]
     },
     "execution_count": 106,
     "metadata": {},
     "output_type": "execute_result"
    }
   ],
   "source": [
    "C"
   ]
  },
  {
   "cell_type": "markdown",
   "metadata": {},
   "source": [
    "### union (اجتماع)"
   ]
  },
  {
   "cell_type": "code",
   "execution_count": 107,
   "metadata": {},
   "outputs": [
    {
     "data": {
      "text/latex": [
       "$$\\left\\{a, b, c, d, e, f, g, h\\right\\}$$"
      ],
      "text/plain": [
       "{a, b, c, d, e, f, g, h}"
      ]
     },
     "execution_count": 107,
     "metadata": {},
     "output_type": "execute_result"
    }
   ],
   "source": [
    "sym.Union(A, B)"
   ]
  },
  {
   "cell_type": "code",
   "execution_count": 108,
   "metadata": {},
   "outputs": [
    {
     "data": {
      "text/latex": [
       "$$\\left\\{e, h, \\left\\{a, b, c, d\\right\\}\\right\\}$$"
      ],
      "text/plain": [
       "{e, h, {a, b, c, d}}"
      ]
     },
     "execution_count": 108,
     "metadata": {},
     "output_type": "execute_result"
    }
   ],
   "source": [
    "D = sym.FiniteSet(A, e, e, e, h, e, h ,A)\n",
    "D"
   ]
  },
  {
   "cell_type": "code",
   "execution_count": 109,
   "metadata": {},
   "outputs": [
    {
     "data": {
      "text/plain": [
       "True"
      ]
     },
     "execution_count": 109,
     "metadata": {},
     "output_type": "execute_result"
    }
   ],
   "source": [
    "D.is_FiniteSet"
   ]
  },
  {
   "cell_type": "markdown",
   "metadata": {},
   "source": [
    "### intersection (اشتراک)"
   ]
  },
  {
   "cell_type": "code",
   "execution_count": 110,
   "metadata": {},
   "outputs": [
    {
     "data": {
      "text/latex": [
       "$$\\left\\{a, b, c, d\\right\\} \\cap \\left\\{e, f, g, h\\right\\}$$"
      ],
      "text/plain": [
       "{a, b, c, d} ∩ {e, f, g, h}"
      ]
     },
     "execution_count": 110,
     "metadata": {},
     "output_type": "execute_result"
    }
   ],
   "source": [
    "E = sym.Intersection(A, B)\n",
    "E"
   ]
  },
  {
   "cell_type": "code",
   "execution_count": 111,
   "metadata": {},
   "outputs": [
    {
     "data": {
      "text/latex": [
       "$$\\left\\{a, b, c, d\\right\\} \\cap \\left\\{e, f, g, h\\right\\} \\setminus \\left\\{a, b, e, f\\right\\}$$"
      ],
      "text/plain": [
       "({a, b, c, d} ∩ {e, f, g, h}) \\ {a, b, e, f}"
      ]
     },
     "execution_count": 111,
     "metadata": {},
     "output_type": "execute_result"
    }
   ],
   "source": [
    "E - C"
   ]
  },
  {
   "cell_type": "code",
   "execution_count": 112,
   "metadata": {},
   "outputs": [
    {
     "data": {
      "text/latex": [
       "$$\\left\\{c, d\\right\\} \\setminus \\left\\{e, f\\right\\} \\cup \\left\\{e, f\\right\\} \\setminus \\left\\{c, d\\right\\}$$"
      ],
      "text/plain": [
       "({c, d} \\ {e, f}) ∪ ({e, f} \\ {c, d})"
      ]
     },
     "execution_count": 112,
     "metadata": {},
     "output_type": "execute_result"
    }
   ],
   "source": [
    "sym.Union((C - A), (A - C))"
   ]
  },
  {
   "cell_type": "markdown",
   "metadata": {},
   "source": [
    "**intervals** and using numeric examples"
   ]
  },
  {
   "cell_type": "code",
   "execution_count": 113,
   "metadata": {},
   "outputs": [
    {
     "data": {
      "text/latex": [
       "$$\\left[0, 1000\\right)$$"
      ],
      "text/plain": [
       "[0, 1000)"
      ]
     },
     "execution_count": 113,
     "metadata": {},
     "output_type": "execute_result"
    }
   ],
   "source": [
    "A = sym.Interval(0, 1000, left_open = False, right_open = True)\n",
    "A"
   ]
  },
  {
   "cell_type": "code",
   "execution_count": 114,
   "metadata": {},
   "outputs": [
    {
     "data": {
      "text/latex": [
       "$$\\left(300, 700\\right)$$"
      ],
      "text/plain": [
       "(300, 700)"
      ]
     },
     "execution_count": 114,
     "metadata": {},
     "output_type": "execute_result"
    }
   ],
   "source": [
    "B = sym.Interval(300, 700, left_open = True, right_open = True)\n",
    "B"
   ]
  },
  {
   "cell_type": "code",
   "execution_count": 115,
   "metadata": {},
   "outputs": [
    {
     "data": {
      "text/latex": [
       "$$\\left(720, 1080\\right)$$"
      ],
      "text/plain": [
       "(720, 1080)"
      ]
     },
     "execution_count": 115,
     "metadata": {},
     "output_type": "execute_result"
    }
   ],
   "source": [
    "C = sym.Interval(720, 1080, left_open = True, right_open = True)\n",
    "C"
   ]
  },
  {
   "cell_type": "code",
   "execution_count": 116,
   "metadata": {},
   "outputs": [
    {
     "data": {
      "text/latex": [
       "$$\\left[0, 1000\\right)$$"
      ],
      "text/plain": [
       "[0, 1000)"
      ]
     },
     "execution_count": 116,
     "metadata": {},
     "output_type": "execute_result"
    }
   ],
   "source": [
    "sym.Union(A, B)"
   ]
  },
  {
   "cell_type": "code",
   "execution_count": 117,
   "metadata": {},
   "outputs": [
    {
     "data": {
      "text/latex": [
       "$$\\left(300, 700\\right) \\cup \\left(720, 1080\\right)$$"
      ],
      "text/plain": [
       "(300, 700) ∪ (720, 1080)"
      ]
     },
     "execution_count": 117,
     "metadata": {},
     "output_type": "execute_result"
    }
   ],
   "source": [
    "E = sym.Union(C, B)\n",
    "E"
   ]
  },
  {
   "cell_type": "code",
   "execution_count": 118,
   "metadata": {},
   "outputs": [
    {
     "data": {
      "text/plain": [
       "False"
      ]
     },
     "execution_count": 118,
     "metadata": {},
     "output_type": "execute_result"
    }
   ],
   "source": [
    "4 in E"
   ]
  },
  {
   "cell_type": "code",
   "execution_count": 119,
   "metadata": {},
   "outputs": [
    {
     "data": {
      "text/plain": [
       "True"
      ]
     },
     "execution_count": 119,
     "metadata": {},
     "output_type": "execute_result"
    }
   ],
   "source": [
    "4 in sym.Union(A, B)"
   ]
  },
  {
   "cell_type": "code",
   "execution_count": 120,
   "metadata": {},
   "outputs": [
    {
     "data": {
      "text/plain": [
       "False"
      ]
     },
     "execution_count": 120,
     "metadata": {},
     "output_type": "execute_result"
    }
   ],
   "source": [
    "4 in B"
   ]
  },
  {
   "cell_type": "code",
   "execution_count": 121,
   "metadata": {},
   "outputs": [
    {
     "data": {
      "text/plain": [
       "True"
      ]
     },
     "execution_count": 121,
     "metadata": {},
     "output_type": "execute_result"
    }
   ],
   "source": [
    "1034 in E"
   ]
  },
  {
   "cell_type": "markdown",
   "metadata": {},
   "source": [
    "how to write **infinite** number"
   ]
  },
  {
   "cell_type": "code",
   "execution_count": 122,
   "metadata": {},
   "outputs": [
    {
     "data": {
      "text/latex": [
       "$$\\infty$$"
      ],
      "text/plain": [
       "∞"
      ]
     },
     "execution_count": 122,
     "metadata": {},
     "output_type": "execute_result"
    }
   ],
   "source": [
    "sym.oo"
   ]
  },
  {
   "cell_type": "markdown",
   "metadata": {},
   "source": [
    "### complement (متمم)"
   ]
  },
  {
   "cell_type": "code",
   "execution_count": 123,
   "metadata": {},
   "outputs": [
    {
     "data": {
      "text/latex": [
       "$$\\left[0, 300\\right] \\cup \\left[700, 1000\\right)$$"
      ],
      "text/plain": [
       "[0, 300] ∪ [700, 1000)"
      ]
     },
     "execution_count": 123,
     "metadata": {},
     "output_type": "execute_result"
    }
   ],
   "source": [
    "B.complement(A)"
   ]
  },
  {
   "cell_type": "markdown",
   "metadata": {},
   "source": [
    "### Laws of set operations"
   ]
  },
  {
   "cell_type": "markdown",
   "metadata": {},
   "source": [
    "some usefull info about set operations"
   ]
  },
  {
   "cell_type": "markdown",
   "metadata": {},
   "source": [
    "- **Indempotent laws** $ A \\cup A = A $ and $ A \\cap A = A $\n",
    "- **Associative laws** $ \\left( A \\cup B  \\right) \\cup C = A \\cup \\left( B \\cup C \\right) $ and $ \\left( A \\cap B  \\right) \\cap C = A \\cap \\left( B \\cap C \\right) $\n",
    "- **Commutative laws** $ A \\cup B = B \\cup A $ and $ A \\cap B = B \\cap A  $\n",
    "- **Distributive laws** $ A \\cup \\left( B \\cap C \\right) = \\left( A \\cup B \\right) \\cap \\left( A \\cup C \\right) $ and $ A \\cap \\left( B \\cup C \\right) = \\left( A \\cap B \\right) \\cup \\left( A \\cap C \\right) $\n",
    "- **Identity laws** $ A \\cup \\emptyset = A $ and $ A \\cup U = U $ and $ A \\cap U = A $ and $ A \\cap \\emptyset = \\emptyset $\n",
    "- **Absorption laws** $ A \\cup \\left( A \\cap B \\right) = A $ and $ A \\cap \\left( A \\cup B \\right) = A $"
   ]
  }
 ],
 "metadata": {
  "kernelspec": {
   "display_name": "Python 3",
   "language": "python",
   "name": "python3"
  },
  "language_info": {
   "codemirror_mode": {
    "name": "ipython",
    "version": 3
   },
   "file_extension": ".py",
   "mimetype": "text/x-python",
   "name": "python",
   "nbconvert_exporter": "python",
   "pygments_lexer": "ipython3",
   "version": "3.7.0"
  }
 },
 "nbformat": 4,
 "nbformat_minor": 2
}
