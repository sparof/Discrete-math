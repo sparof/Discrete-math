{
 "cells": [
  {
   "cell_type": "markdown",
   "metadata": {},
   "source": [
    "this jupyter notebook belongs to guilan university discrete math of 981 semester\n",
    "author: ahmad mohammadalizadeh\n",
    "+ <a href=\"mailto:ahmadsparof@gmail.com\">Email me if there is any complexity or question</a>\n",
    "and special tnx to <a href=\"https://github.com/juanklopper\">Dr Juan H Klopper</a> for his nice jupyter notebook about probability"
   ]
  },
  {
   "cell_type": "code",
   "execution_count": null,
   "metadata": {},
   "outputs": [],
   "source": [
    "import sympy as sym\n",
    "# Importing additional sympy, scipy and math functions, as well as plotting functions\n",
    "from sympy.stats import Coin, density, Die, P, DiscreteUniform, Binomial, Normal, E\n",
    "from math import factorial\n",
    "from scipy.stats import binom\n",
    "import matplotlib.pyplot as plt\n",
    "import seaborn as sns\n",
    "sns.set_style(\"white\")\n",
    "sns.set_context(font_scale = 2)\n",
    "%matplotlib inline\n",
    "sym.init_printing(use_latex = \"mathjax\")"
   ]
  },
  {
   "cell_type": "markdown",
   "metadata": {},
   "source": [
    "# probability"
   ]
  },
  {
   "cell_type": "markdown",
   "metadata": {},
   "source": [
    "Follow these links\n",
    "- [Experiments](#Experiments)\n",
    "- [Probability of an event](#Probability-of-an-event)\n",
    "- [Conditional probability](#Conditional-probability)\n",
    "- [The binomial distribution](#The-binomial-distribution)"
   ]
  },
  {
   "cell_type": "markdown",
   "metadata": {},
   "source": [
    "## Experiments"
   ]
  },
  {
   "cell_type": "code",
   "execution_count": 3,
   "metadata": {},
   "outputs": [
    {
     "data": {
      "text/latex": [
       "$$C$$"
      ],
      "text/plain": [
       "C"
      ]
     },
     "execution_count": 3,
     "metadata": {},
     "output_type": "execute_result"
    }
   ],
   "source": [
    "# Defining a fair coin\n",
    "C = Coin(\"C\", p = 0.5)\n",
    "C"
   ]
  },
  {
   "cell_type": "code",
   "execution_count": 4,
   "metadata": {},
   "outputs": [
    {
     "data": {
      "text/latex": [
       "$$\\left \\{ H : 0.5, \\quad T : 0.5\\right \\}$$"
      ],
      "text/plain": [
       "{H: 0.5, T: 0.5}"
      ]
     },
     "execution_count": 4,
     "metadata": {},
     "output_type": "execute_result"
    }
   ],
   "source": [
    "# The density function of C expressed as a dict\n",
    "density(C).dict"
   ]
  },
  {
   "cell_type": "code",
   "execution_count": 5,
   "metadata": {},
   "outputs": [],
   "source": [
    "# Creating an unfair coin\n",
    "uC = Coin(\"uC\", p = 6/10)"
   ]
  },
  {
   "cell_type": "code",
   "execution_count": 6,
   "metadata": {},
   "outputs": [
    {
     "data": {
      "text/latex": [
       "$$\\left \\{ H : 0.6, \\quad T : 0.4\\right \\}$$"
      ],
      "text/plain": [
       "{H: 0.6, T: 0.4}"
      ]
     },
     "execution_count": 6,
     "metadata": {},
     "output_type": "execute_result"
    }
   ],
   "source": [
    "density(uC).dict"
   ]
  },
  {
   "cell_type": "markdown",
   "metadata": {},
   "source": [
    "### example"
   ]
  },
  {
   "cell_type": "markdown",
   "metadata": {},
   "source": [
    "We can add mathematical notation to this discussion.  Consider the sample space of all the Cartesian point $ x $ and $ y $ that fall within a circle centered around the origin and with a radius of $ 3 $.  It would simply be $$ S = \\left\\{ \\left( x,y \\right) \\quad | \\quad {x}^{2} + {y}^{2} < {3}^{2} \\right\\} $$\n",
    "An **Event** is a subset of a sample space.  For the experiment that relates to the catsing of a die, with the sample space being $  S = \\left\\{ 1,2,3,4,5,6 \\right\\} $, we can create an event that relates to all values greater than or equal to $ 4 $.  We might then write the event as $ {E}_{1} = \\left\\{ 4,5,6 \\right\\} $, with $ {E}_{1} \\subset  S $.  A sample space is the an event containing all possible outcomes.\n",
    "We can then have $ {E}_{1} \\subseteq  S $ and $ {E}_{1} = \\emptyset $.\n",
    "Let's write a python™ function that casts a pair of dice and tells us how many ways there are that can make up the value which we pass as an argument.  The value that we pass as an argument results in an event."
   ]
  },
  {
   "cell_type": "code",
   "execution_count": 7,
   "metadata": {},
   "outputs": [],
   "source": [
    "def dice(x):\n",
    "    number = 0\n",
    "    for i in range(1, 7): # values 1, 2, 3, 4, 5, and 6 (7 is excluded)\n",
    "        for j in range(1, 7):\n",
    "            if i + j == x:\n",
    "                number += 1\n",
    "            else:\n",
    "                number = number\n",
    "    return number"
   ]
  },
  {
   "cell_type": "code",
   "execution_count": 8,
   "metadata": {},
   "outputs": [
    {
     "data": {
      "text/latex": [
       "$$6$$"
      ],
      "text/plain": [
       "6"
      ]
     },
     "execution_count": 8,
     "metadata": {},
     "output_type": "execute_result"
    }
   ],
   "source": [
    "# In how many ways can be roll a 7?\n",
    "dice(7)"
   ]
  },
  {
   "cell_type": "markdown",
   "metadata": {},
   "source": [
    "Here is a function that also shows us the actual values."
   ]
  },
  {
   "cell_type": "code",
   "execution_count": 24,
   "metadata": {},
   "outputs": [
    {
     "name": "stdout",
     "output_type": "stream",
     "text": [
      "1 6\n",
      "2 5\n",
      "3 4\n",
      "4 3\n",
      "5 2\n",
      "6 1\n"
     ]
    },
    {
     "data": {
      "text/latex": [
       "$$6$$"
      ],
      "text/plain": [
       "6"
      ]
     },
     "execution_count": 24,
     "metadata": {},
     "output_type": "execute_result"
    }
   ],
   "source": [
    "def dicepair(x):\n",
    "    number = 0\n",
    "    for i in range(1, 7):\n",
    "        for j in range(1, 7):\n",
    "            if i + j == x:\n",
    "                number += 1\n",
    "                print(i,j) # Printing the value pairs to the screen\n",
    "            else:\n",
    "                number = number\n",
    "    return number\n",
    "dicepair(7)"
   ]
  },
  {
   "cell_type": "markdown",
   "metadata": {},
   "source": [
    "We can also ask for an event that is a complement.  So given our python™ function above we can ask for all the pairs that do not add to the argument value."
   ]
  },
  {
   "cell_type": "code",
   "execution_count": 23,
   "metadata": {},
   "outputs": [
    {
     "name": "stdout",
     "output_type": "stream",
     "text": [
      "1 1\n",
      "1 2\n",
      "1 3\n",
      "1 4\n",
      "1 5\n",
      "2 1\n",
      "2 2\n",
      "2 3\n",
      "2 4\n",
      "2 6\n",
      "3 1\n",
      "3 2\n",
      "3 3\n",
      "3 5\n",
      "3 6\n",
      "4 1\n",
      "4 2\n",
      "4 4\n",
      "4 5\n",
      "4 6\n",
      "5 1\n",
      "5 3\n",
      "5 4\n",
      "5 5\n",
      "5 6\n",
      "6 2\n",
      "6 3\n",
      "6 4\n",
      "6 5\n",
      "6 6\n"
     ]
    },
    {
     "data": {
      "text/latex": [
       "$$30$$"
      ],
      "text/plain": [
       "30"
      ]
     },
     "execution_count": 23,
     "metadata": {},
     "output_type": "execute_result"
    }
   ],
   "source": [
    "def dicepaircomplement(x):\n",
    "    number = 0\n",
    "    for i in range(1, 7):\n",
    "        for j in range(1, 7):\n",
    "            if i + j != x:\n",
    "                number += 1\n",
    "                print(i, j)\n",
    "            else:\n",
    "                number = number\n",
    "    return number\n",
    "dicepaircomplement(7)"
   ]
  },
  {
   "cell_type": "markdown",
   "metadata": {},
   "source": [
    "We can also consider the intersection of events.  Continuing with the dice experiment we can look at the intersection between the events *total (sum of two dice) larger than* $ 6 $ and *both values equal*.  The intersection of these two events would be $ \\left\\{ \\left( 4,4 \\right), \\left( 5,5 \\right), \\left( 6,6 \\right) \\right\\} $."
   ]
  },
  {
   "cell_type": "code",
   "execution_count": 21,
   "metadata": {},
   "outputs": [
    {
     "name": "stdout",
     "output_type": "stream",
     "text": [
      "4 4\n",
      "5 5\n",
      "6 6\n"
     ]
    },
    {
     "data": {
      "text/latex": [
       "$$3$$"
      ],
      "text/plain": [
       "3"
      ]
     },
     "execution_count": 21,
     "metadata": {},
     "output_type": "execute_result"
    }
   ],
   "source": [
    "def dicepairequallarger(x):\n",
    "    number = 0\n",
    "    for i in range(1, 7):\n",
    "        for j in range(1, 7):\n",
    "            if i + j > x and i == j:\n",
    "                number += 1\n",
    "                print(i,j)\n",
    "            else:\n",
    "                number = number\n",
    "    return number\n",
    "dicepairequallarger(6)"
   ]
  },
  {
   "cell_type": "markdown",
   "metadata": {},
   "source": [
    "Remember that some events are mutually exclusive and have an intersection which is $ \\emptyset $.\n",
    "If we have an intersection of events, we must have a union.  Let's create a python™ function that returns the pairs that are either larger than an argument value or both values are equal."
   ]
  },
  {
   "cell_type": "code",
   "execution_count": 20,
   "metadata": {},
   "outputs": [
    {
     "name": "stdout",
     "output_type": "stream",
     "text": [
      "1 1\n",
      "2 2\n",
      "3 3\n",
      "4 4\n",
      "5 5\n",
      "5 6\n",
      "6 5\n",
      "6 6\n"
     ]
    },
    {
     "data": {
      "text/latex": [
       "$$8$$"
      ],
      "text/plain": [
       "8"
      ]
     },
     "execution_count": 20,
     "metadata": {},
     "output_type": "execute_result"
    }
   ],
   "source": [
    "def dicepairunion(x):\n",
    "    number = 0\n",
    "    for i in range(1, 7):\n",
    "        for j in range(1, 7):\n",
    "            if i + j > x or i == j:\n",
    "                number += 1\n",
    "                print(i,j)\n",
    "            else:\n",
    "                number = number\n",
    "    return number\n",
    "dicepairunion(10)"
   ]
  },
  {
   "cell_type": "markdown",
   "metadata": {},
   "source": [
    "As with set theory we have some rules for combining events.  If $ S $ is the sample space and $ A $ is a given event we have:\n",
    "- $ A \\cap \\emptyset = \\emptyset $\n",
    "- $ A \\cup \\emptyset = A $\n",
    "- $ A \\cap A' = \\emptyset $\n",
    "- $ A \\cup A' = S $\n",
    "- $ S' = \\emptyset $\n",
    "- $ \\emptyset ' = S $\n",
    "- $ \\left( A' \\right) ' = A $\n",
    "- $ \\left( A \\cap B \\right) ' = A' \\cup B' $\n",
    "- $ \\left( A \\cup B \\right) ' = A' \\cap B' $"
   ]
  },
  {
   "cell_type": "markdown",
   "metadata": {},
   "source": [
    "## Probability of an event"
   ]
  },
  {
   "cell_type": "markdown",
   "metadata": {},
   "source": [
    "The **Probability** of an event or the likelihood of an event is the ratio between the cardinality of the event and the sample space (given that both are finite values) $$ {P}{\\left( A \\right)} = \\frac{\\left| A \\right|}{\\left| S \\right|} $$\n",
    "We can use the ```sympy.stats.Die``` function to look at probabilities."
   ]
  },
  {
   "cell_type": "code",
   "execution_count": 26,
   "metadata": {},
   "outputs": [
    {
     "data": {
      "text/latex": [
       "$$\\frac{1}{2}$$"
      ],
      "text/plain": [
       "1/2"
      ]
     },
     "execution_count": 26,
     "metadata": {},
     "output_type": "execute_result"
    }
   ],
   "source": [
    "# Create computer variable X\n",
    "# It is a fair die with 6 sides\n",
    "X = Die(\"X\", 6)\n",
    "P(X > 3)"
   ]
  },
  {
   "cell_type": "markdown",
   "metadata": {},
   "source": [
    "We can also the the ```sympy.stats.DiscreteUniform``` distribution.  Below we create such a distribution with valsue from $ 1$ through $ 6 $ and then use the ```density``` function (with a ```dict``` method to list the possible outcomes and their likelihood)."
   ]
  },
  {
   "cell_type": "code",
   "execution_count": 27,
   "metadata": {},
   "outputs": [
    {
     "data": {
      "text/latex": [
       "$$\\left \\{ 1 : \\frac{1}{6}, \\quad 2 : \\frac{1}{6}, \\quad 3 : \\frac{1}{6}, \\quad 4 : \\frac{1}{6}, \\quad 5 : \\frac{1}{6}, \\quad 6 : \\frac{1}{6}\\right \\}$$"
      ],
      "text/plain": [
       "{1: 1/6, 2: 1/6, 3: 1/6, 4: 1/6, 5: 1/6, 6: 1/6}"
      ]
     },
     "execution_count": 27,
     "metadata": {},
     "output_type": "execute_result"
    }
   ],
   "source": [
    "X = DiscreteUniform(\"X\", range(1, 7))\n",
    "density(X).dict"
   ]
  },
  {
   "cell_type": "markdown",
   "metadata": {},
   "source": [
    "The probability when summing all the events equals $ 1 $.  In the case of a die, the sample space has $ 6 $ elements.  They all have a probability of $ \\frac{1}{6} $ of landing face-up when the die is cast.  Adding all the probabilities equals $ \\frac{1}{6} + \\frac{1}{6}  + \\frac{1}{6}  + \\frac{1}{6}  + \\frac{1}{6}  + \\frac{1}{6} = \\frac{6}{6} = 1  $"
   ]
  },
  {
   "cell_type": "code",
   "execution_count": 28,
   "metadata": {},
   "outputs": [
    {
     "data": {
      "text/latex": [
       "$$1$$"
      ],
      "text/plain": [
       "1"
      ]
     },
     "execution_count": 28,
     "metadata": {},
     "output_type": "execute_result"
    }
   ],
   "source": [
    "P(X > 0)"
   ]
  },
  {
   "cell_type": "markdown",
   "metadata": {},
   "source": [
    "A classical examples asks for the probability that, assuming a non-leap year, $ n $  persons in a room share a birthdate.  This examples shows us that it is sometimes easier to consider the complement of the event, i.e. probability of not sharing a birthday.<p/>\n",
    "We shall start small and consider only a year that contains $ 3 $ days and with a room filled with $ 2 $ persons.  Either they share a birthday on one of these $ 3 $ days or they don't.  So the possible outcomes if we make pairs of $ 0 $ and $ 1 $ values for the *not birthday* and *birthday* values are\n",
    "$$ \\left[ \\left( 1,1 \\right) ,\\left( 0,0 \\right) ,\\left( 0,0 \\right)  \\right] \\\\ \\left[ \\left( 1,0 \\right) ,\\left( 0,1 \\right) ,\\left( 0,0 \\right)  \\right] \\\\ \\left[ \\left( 1,0 \\right) ,\\left( 0,0 \\right) ,\\left( 0,1 \\right)  \\right] \\\\ \\left[ \\left( 0,1 \\right) ,\\left( 1,0 \\right) ,\\left( 0,0 \\right)  \\right] \\\\ \\left[ \\left( 0,0 \\right) ,\\left( 1,1 \\right) ,\\left( 0,0 \\right)  \\right] \\\\ \\left[ \\left( 0,0 \\right) ,\\left( 1,0 \\right) ,\\left( 0,1 \\right)  \\right] \\\\ \\left[ \\left( 0,1 \\right) ,\\left( 0,0 \\right) ,\\left( 1,0 \\right)  \\right] \\\\ \\left[ \\left( 0,0 \\right) ,\\left( 0,1 \\right) ,\\left( 1,0 \\right)  \\right] \\\\ \\left[ \\left( 0,0 \\right) ,\\left( 0,0 \\right) ,\\left( 1,1 \\right)  \\right] $$\n",
    "There are $ 9 $ possible outcomes, which is calculated from the days and the number of persons as $ {3}^{2} $.  So for a year and $ n $ persons, we will have $ {365}^{n} $ possible outcomes.\n",
    "\n",
    "Start with the first person.  We will make them all female, so that we can stick with *she*.  As for the first, then, she has $ 3 $ days to have a birthday on.  For the second, well she only has $ 3 - 1 = 2 $ days on which not to share a birthday.  So, for not sharing a birthday we have\n",
    "$$ \\frac{3 \\times 2}{{3}^{2}} = \\frac{6}{9} $$\n",
    "If we look at the table above, there are indeed $ 6 $ out of the possible $ 9 $ outcomes where a birtday is not shared.  To calculate the probability of a shared birthday then, we simply subtract from $ 1 $, so the probability of the two sharing a birthday in this absurd year is\n",
    "$$ 1 - \\frac{3 \\times 2}{{3}^{2}} = \\frac{3}{9} $$\n",
    "Ramping this up to $ n $ persons and $ 365 $ days we get\n",
    "$$ 1 - \\frac{365 \\times 364 \\times \\dots \\times \\left( 365 - n + 1 \\right)}{{365}^{n}} $$"
   ]
  },
  {
   "cell_type": "markdown",
   "metadata": {},
   "source": [
    "## Conditional probability"
   ]
  },
  {
   "cell_type": "markdown",
   "metadata": {},
   "source": [
    "Up until now, we have considered unconditional events.  If you flip two coins in a row, the ouctome of the second is not influenced by the first.  This is not so in **Conditional Probability** where an outcome is influenced by that which have preceded it.\n",
    "We note the probability of $ A $ given $ B $ and write\n",
    "$$ {P}{\\left( A|B \\right)} = \\frac{{P}{\\left( A \\cap B \\right)}}{{P}{\\left( B \\right)}} $$\n",
    "So, imagine that we cast a pair of dice.  The equiprobable sample space consists of $ 36 $ ordered pairs, with the probability of any pair landing face-up being $ \\frac{1}{36} $.<p/>\n",
    "As a condtional probability question we can ask what the probability is of one of the dice landing with the value $ 2 $ face-up given that the total face-value is $ 6 $, i.e. $ {P}{\\left( A|B \\right)} $.\n",
    "From our ```dicepair()``` function above, let's see how many ways there are to cast a total face-value of $ 6 $."
   ]
  },
  {
   "cell_type": "code",
   "execution_count": 29,
   "metadata": {},
   "outputs": [
    {
     "name": "stdout",
     "output_type": "stream",
     "text": [
      "1 5\n",
      "2 4\n",
      "3 3\n",
      "4 2\n",
      "5 1\n"
     ]
    },
    {
     "data": {
      "text/latex": [
       "$$5$$"
      ],
      "text/plain": [
       "5"
      ]
     },
     "execution_count": 29,
     "metadata": {},
     "output_type": "execute_result"
    }
   ],
   "source": [
    "dicepair(6)"
   ]
  },
  {
   "cell_type": "markdown",
   "metadata": {},
   "source": [
    "We have then that $ {P}{\\left( B \\right)} = \\frac{5}{36} $.  For $ {P}{\\left( A \\cap B \\right)} $, we never created a function to show how many times a certain number appears in the ordered pairs.  Here is one."
   ]
  },
  {
   "cell_type": "code",
   "execution_count": 30,
   "metadata": {},
   "outputs": [
    {
     "name": "stdout",
     "output_type": "stream",
     "text": [
      "1 2\n",
      "2 1\n",
      "2 2\n",
      "2 3\n",
      "2 4\n",
      "2 5\n",
      "2 6\n",
      "3 2\n",
      "4 2\n",
      "5 2\n",
      "6 2\n"
     ]
    },
    {
     "data": {
      "text/latex": [
       "$$11$$"
      ],
      "text/plain": [
       "11"
      ]
     },
     "execution_count": 30,
     "metadata": {},
     "output_type": "execute_result"
    }
   ],
   "source": [
    "def nump(x):\n",
    "    total = 0\n",
    "    for i in range(1, 7):\n",
    "        for j in range(1, 7):\n",
    "            if i == x or j == x:\n",
    "                print(i, j)\n",
    "                total += 1\n",
    "            else:\n",
    "                total = total\n",
    "    return total\n",
    "nump(2)"
   ]
  },
  {
   "cell_type": "markdown",
   "metadata": {},
   "source": [
    "We only count two pairs in the intersection, $ \\left\\{ \\left( 2, 4 \\right), \\left( 4,2 \\right) \\right\\} $, thus $ {P}{\\left( A \\cap B \\right)} = \\frac{2}{36} $.  Thus we have:\n",
    "$$ {P}{\\left( A|B \\right)} = \\frac{{P}{\\left( A \\cap B \\right)}}{{P}{\\left( B \\right)}} \\\\ {P}{\\left( A|B \\right)} = \\frac{\\frac{2}{36}}{\\frac{5}{36}} \\\\ {P}{\\left( A|B \\right)} = \\frac{2}{5} $$\n",
    "In another famous example we consider two siblings.  If we restrict the sample space (for simplicity) to boys, $ B $, and girls, $ G $, we have $ \\left\\{ \\left( g,g \\right), \\left( g,b \\right), \\left( b,g \\right), \\left( b,b \\right) \\right\\} $.  In the first instance we can ask what the probability is of both siblings being girls, given that at least one of the two is a girl.  This reduces our sample space to $ \\left\\{ \\left( g,g \\right), \\left( g,b \\right), \\left( b,g \\right) \\right\\} $ and the probability is a third.  If we want to know the probability of both being girls given that the first in the pair is a girl, we reduce the sample space even further to $ \\left\\{ \\left( g,g \\right), \\left( g,b \\right) \\right\\} $, giving a probability of a half.\n",
    "From conditional probability (note the order change)\n",
    "$$ {P}{\\left( B|A \\right)} = \\frac{{P}{\\left( A \\cap B \\right)}}{{P}{\\left( A \\right)}} $$\n",
    "we get the **Multiplication Theorem of Conditional Probability**, which states\n",
    "$$ {P}{\\left( A \\cap B \\right)} = {P}{\\left( A \\right)}{P}{\\left( B|A \\right)} $$\n",
    "We can extend this to more intersections.  Imagine we have $ 15 $ items, of which $ 6 $ are defective.  We draw 4 items at random and ask what the probability is of all $ 4 $ being fully functional.<p/>\n",
    "The first item drawn has a probability of $ \\frac{9}{15} $ of being fully functional.  We have now removed on functional unit from the list, so we are left with $ 14 $ items, of which $ 8 $ are functional.  So the probability of the second being functional is $ \\frac{8}{14} $.  This repeats for all $ 4 $ draws and since we are looking for the probability of the intersection we have\n",
    "$$ \\frac{9}{15} \\cdot \\frac{8}{14} \\cdot \\frac{7}{13} \\cdot \\frac{6}{12} \\approx 0.09  $$\n",
    "So we have\n",
    "$$ P\\left( A\\cap B \\right) =P\\left( A \\right) P\\left( B|A \\right) \\\\ P\\left( A\\cap B\\cap C \\right) =P\\left( A\\cap B \\right) P\\left( C|A\\cap B \\right) \\\\ P\\left( A\\cap B\\cap C \\right) =P\\left( A \\right) P\\left( B|A \\right) P\\left( C|A\\cap B \\right)  $$\n",
    "For even more intersection we have\n",
    "$$ P\\left( { A }_{ 1 }\\cap { A }_{ 2 }\\cap \\dots \\cap { A }_{ k } \\right) =P\\left( { A }_{ 1 } \\right) P\\left( { A }_{ 2 }|{ A }_{ 1 } \\right) P\\left( { A }_{ 3 }|{ A }_{ 1 }\\cap { A }_{ 2 } \\right) \\dots P\\left( { A }_{ k }|{ A }_{ 1 }\\cap { A }_{ 2 }\\cap \\dots \\cap { A }_{ k-1 } \\right)  $$\n",
    "If all the events are independent (see next section), this simplifies to\n",
    "$$ P\\left( { A }_{ 1 }\\cap { A }_{ 2 }\\cap \\dots \\cap { A }_{ k } \\right) =P\\left( { A }_{ 1 } \\right) P\\left( { A }_{ 2 } \\right) \\dots P\\left( { A }_{ k } \\right)  $$"
   ]
  },
  {
   "cell_type": "markdown",
   "metadata": {},
   "source": [
    "## The binomial distribution"
   ]
  },
  {
   "cell_type": "markdown",
   "metadata": {},
   "source": [
    "Here we are concerned with the probability of an outcome (usually called a **success**) given $ n $ repeats of a binary outcome experiment, with the probability of a success being $ p $.  In an example we can flip a coint $ 10 $ times.  If *heads* is a success with a probability of $ p = 0.5 $ we can ask what the probability is of $ r \\in \\left[ 1,n \\right] $ successes in $ n $ trials, given $ p $."
   ]
  },
  {
   "cell_type": "code",
   "execution_count": 32,
   "metadata": {},
   "outputs": [
    {
     "data": {
      "text/latex": [
       "$$\\left \\{ 0 : 0.015625, \\quad 1 : 0.09375, \\quad 2 : 0.234375, \\quad 3 : 0.3125, \\quad 4 : 0.234375, \\quad 5 : 0.09375, \\quad 6 : 0.015625\\right \\}$$"
      ],
      "text/plain": [
       "{0: 0.015625, 1: 0.09375, 2: 0.234375, 3: 0.3125, 4: 0.234375, 5: 0.09375, 6: \n",
       "0.015625}"
      ]
     },
     "execution_count": 32,
     "metadata": {},
     "output_type": "execute_result"
    }
   ],
   "source": [
    "# Creating a binomial distribution\n",
    "# Experiment to be repeated 20 times\n",
    "# At each independent trial we have the probability of success of 50%\n",
    "X = Binomial(\"X\", n = 6, p = 0.5)\n",
    "density(X).dict"
   ]
  },
  {
   "cell_type": "markdown",
   "metadata": {},
   "source": [
    "So, above we have a dictionary with a *key* and a *value*.  Its states that there is a $ {0.015625} $ of getting no successes.  So if we flipped a coin $ 6 $ times, the proabbility of no *heads* would be approximately $ 0.015625 $.  For $ 2 $ heads it would be $ 0.234375 $.\n",
    "The equation for $ r $ successes in $ n $ independent trials, given the probability of a success being $ p $ is\n",
    "$$ { _{ n }{ C }_{ r } }{ p }^{ r }{ p }^{ n-r }=\\frac { n! }{ r!\\left( n-r \\right) ! } { p }^{ r }{ p }^{ n-r } $$\n",
    "We can create a python™ function that takes three arguments and calculates the equation above."
   ]
  },
  {
   "cell_type": "code",
   "execution_count": 33,
   "metadata": {},
   "outputs": [
    {
     "data": {
      "text/latex": [
       "$$0.234375$$"
      ],
      "text/plain": [
       "0.234375"
      ]
     },
     "execution_count": 33,
     "metadata": {},
     "output_type": "execute_result"
    }
   ],
   "source": [
    "def succ(n,r,p):\n",
    "    return ((factorial(n)) / ((factorial(r)) * (factorial(n - r)))) * (p**r) * (p**(n - r))\n",
    "succ(6,2,0.5)"
   ]
  },
  {
   "cell_type": "markdown",
   "metadata": {},
   "source": [
    "We can recreate the same functionality as with the ```Binomial()``` *sympy* function."
   ]
  },
  {
   "cell_type": "code",
   "execution_count": 34,
   "metadata": {},
   "outputs": [
    {
     "name": "stdout",
     "output_type": "stream",
     "text": [
      "1 0.09375 \n",
      "\n",
      "2 0.234375 \n",
      "\n",
      "3 0.3125 \n",
      "\n",
      "4 0.234375 \n",
      "\n",
      "5 0.09375 \n",
      "\n",
      "6 0.015625 \n",
      "\n"
     ]
    }
   ],
   "source": [
    "def succ(n,p):\n",
    "    for i in range(1, (n + 1)):\n",
    "        print(i, ((factorial(n)) / ((factorial(i)) * (factorial(n - i)))) * (p**i) * (p**(n - i)), \"\\n\")\n",
    "succ(6, 0.5)"
   ]
  },
  {
   "cell_type": "markdown",
   "metadata": {},
   "source": [
    "We can have some fun with this.  The *scipy* library has a statistics section that contains a large variety of random variable distributions.  One of them is ```binom()```.  One of the methdos of ```binom()``` is ```rvs()```.  When used together we can pass some arguments.  Below, I create the computer variable called ```sample1```.  It uses the binomial distribution and, as above, we do an experiment $ 6 $ times and look for the number of successes (from $ 0 $ successes up to $ 6 $ successes), with ethe probability of a success being $ 0.5 $ and quite independent of what came before.  The ```rvs()``` methods allows use to use the ```size``` arguments that, in effect, tells the computer to do this $ 1000 $ times.  You can do any number of repeats.  I simply chose $ 1000 $.<p/>\n",
    "Then I use *seaborn* to give me a plot showing a histogram of the results.  As predicted, we will see $ 3 $ successes come up most often."
   ]
  },
  {
   "cell_type": "code",
   "execution_count": 35,
   "metadata": {},
   "outputs": [
    {
     "data": {
      "image/png": "[encoded data removed]",
      "text/plain": [
       "<Figure size 432x288 with 1 Axes>"
      ]
     },
     "metadata": {
      "needs_background": "light"
     },
     "output_type": "display_data"
    }
   ],
   "source": [
    "sample1 = binom.rvs(6, 0.5, size = 1000);\n",
    "sns.countplot(sample1);"
   ]
  },
  {
   "cell_type": "code",
   "execution_count": null,
   "metadata": {},
   "outputs": [],
   "source": []
  }
 ],
 "metadata": {
  "kernelspec": {
   "display_name": "Python 3",
   "language": "python",
   "name": "python3"
  },
  "language_info": {
   "codemirror_mode": {
    "name": "ipython",
    "version": 3
   },
   "file_extension": ".py",
   "mimetype": "text/x-python",
   "name": "python",
   "nbconvert_exporter": "python",
   "pygments_lexer": "ipython3",
   "version": "3.7.0"
  }
 },
 "nbformat": 4,
 "nbformat_minor": 2
}
